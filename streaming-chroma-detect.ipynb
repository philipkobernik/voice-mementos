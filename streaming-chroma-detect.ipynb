{
 "cells": [
  {
   "cell_type": "code",
   "execution_count": 4,
   "metadata": {},
   "outputs": [
    {
     "data": {
      "text/plain": [
       "<Figure size 640x480 with 1 Axes>"
      ]
     },
     "metadata": {},
     "output_type": "display_data"
    },
    {
     "name": "stdout",
     "output_type": "stream",
     "text": [
      "Estimated key and scale: F major\n"
     ]
    }
   ],
   "source": [
    "import essentia.streaming as ess\n",
    "import essentia\n",
    "from pylab import *\n",
    "\n",
    "# Initialize algorithms we will use\n",
    "loader = ess.MonoLoader(filename='lost-piano-jam.MP3')\n",
    "framecutter = ess.FrameCutter(frameSize=4096, hopSize=2048, silentFrames='noise')\n",
    "windowing = ess.Windowing(type='blackmanharris62')\n",
    "spectrum = ess.Spectrum()\n",
    "spectralpeaks = ess.SpectralPeaks(orderBy='magnitude',\n",
    "                                  magnitudeThreshold=0.00001,\n",
    "                                  minFrequency=20,\n",
    "                                  maxFrequency=3500,\n",
    "                                  maxPeaks=60)\n",
    "\n",
    "# Use default HPCP parameters for plots, however we will need higher resolution\n",
    "# and custom parameters for better Key estimation\n",
    "\n",
    "hpcp = ess.HPCP()\n",
    "hpcp_key = ess.HPCP(size=36, # we will need higher resolution for Key estimation\n",
    "                    referenceFrequency=440, # assume tuning frequency is 44100.\n",
    "                    bandPreset=False,\n",
    "                    minFrequency=20,\n",
    "                    maxFrequency=3500,\n",
    "                    weightType='cosine',\n",
    "                    nonLinear=False,\n",
    "                    windowSize=1.)\n",
    "\n",
    "key = ess.Key(profileType='edma', # Use profile for electronic music\n",
    "              numHarmonics=4,\n",
    "              pcpSize=36,\n",
    "              slope=0.6,\n",
    "              usePolyphony=True,\n",
    "              useThreeChords=True)\n",
    "\n",
    "# Use pool to store data\n",
    "pool = essentia.Pool()\n",
    "\n",
    "# Connect streaming algorithms\n",
    "loader.audio >> framecutter.signal\n",
    "framecutter.frame >> windowing.frame >> spectrum.frame\n",
    "spectrum.spectrum >> spectralpeaks.spectrum\n",
    "spectralpeaks.magnitudes >> hpcp.magnitudes\n",
    "spectralpeaks.frequencies >> hpcp.frequencies\n",
    "spectralpeaks.magnitudes >> hpcp_key.magnitudes\n",
    "spectralpeaks.frequencies >> hpcp_key.frequencies\n",
    "hpcp_key.hpcp >> key.pcp\n",
    "hpcp.hpcp >> (pool, 'tonal.hpcp')\n",
    "key.key >> (pool, 'tonal.key_key')\n",
    "key.scale >> (pool, 'tonal.key_scale')\n",
    "key.strength >> (pool, 'tonal.key_strength')\n",
    "\n",
    "# Run streaming network\n",
    "essentia.run(loader)\n",
    "\n",
    "# Plot HPCP\n",
    "imshow(pool['tonal.hpcp'].T, aspect='auto', origin='lower', interpolation='none')\n",
    "\n",
    "plt.title(\"HPCPs in frames (the 0-th HPCP coefficient corresponds to A)\")\n",
    "\n",
    "show()\n",
    "\n",
    "print(\"Estimated key and scale:\", pool['tonal.key_key'] + \" \" + pool['tonal.key_scale'])"
   ]
  }
 ],
 "metadata": {
  "kernelspec": {
   "display_name": "Python 3",
   "language": "python",
   "name": "python3"
  },
  "language_info": {
   "codemirror_mode": {
    "name": "ipython",
    "version": 3
   },
   "file_extension": ".py",
   "mimetype": "text/x-python",
   "name": "python",
   "nbconvert_exporter": "python",
   "pygments_lexer": "ipython3",
   "version": "3.6.7"
  }
 },
 "nbformat": 4,
 "nbformat_minor": 4
}
